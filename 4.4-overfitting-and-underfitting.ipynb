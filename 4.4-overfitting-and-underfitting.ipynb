{
 "cells": [
  {
   "cell_type": "code",
   "execution_count": 1,
   "metadata": {},
   "outputs": [
    {
     "data": {
      "text/plain": [
       "'2.2.4-tf'"
      ]
     },
     "execution_count": 1,
     "metadata": {},
     "output_type": "execute_result"
    }
   ],
   "source": [
    "import tensorflow.keras as keras\n",
    "keras.__version__"
   ]
  },
  {
   "cell_type": "markdown",
   "metadata": {},
   "source": [
    "# Overfitting and underfitting\n",
    "\n",
    "This notebook contains the code samples found in Chapter 3, Section 6 of [Deep Learning with Python](https://www.manning.com/books/deep-learning-with-python?a_aid=keras&a_bid=76564dff). Note that the original text features far more content, in particular further explanations and figures: in this notebook, you will only find source code and related comments.\n",
    "\n",
    "----\n",
    "\n",
    "\n",
    "In all the examples we saw in the previous chapter -- movie review sentiment prediction, topic classification, and house price regression -- \n",
    "we could notice that the performance of our model on the held-out validation data would always peak after a few epochs and would then start \n",
    "degrading, i.e. our model would quickly start to _overfit_ to the training data. Overfitting happens in every single machine learning \n",
    "problem. Learning how to deal with overfitting is essential to mastering machine learning.\n",
    "\n",
    "The fundamental issue in machine learning is the tension between optimization and generalization. \"Optimization\" refers to the process of \n",
    "adjusting a model to get the best performance possible on the training data (the \"learning\" in \"machine learning\"), while \"generalization\" \n",
    "refers to how well the trained model would perform on data it has never seen before. The goal of the game is to get good generalization, of \n",
    "course, but you do not control generalization; you can only adjust the model based on its training data.\n",
    "\n",
    "At the beginning of training, optimization and generalization are correlated: the lower your loss on training data, the lower your loss on \n",
    "test data. While this is happening, your model is said to be _under-fit_: there is still progress to be made; the network hasn't yet \n",
    "modeled all relevant patterns in the training data. But after a certain number of iterations on the training data, generalization stops \n",
    "improving, validation metrics stall then start degrading: the model is then starting to over-fit, i.e. is it starting to learn patterns \n",
    "that are specific to the training data but that are misleading or irrelevant when it comes to new data.\n",
    "\n",
    "To prevent a model from learning misleading or irrelevant patterns found in the training data, _the best solution is of course to get \n",
    "more training data_. A model trained on more data will naturally generalize better. When that is no longer possible, the next best solution \n",
    "is to modulate the quantity of information that your model is allowed to store, or to add constraints on what information it is allowed to \n",
    "store. If a network can only afford to memorize a small number of patterns, the optimization process will force it to focus on the most \n",
    "prominent patterns, which have a better chance of generalizing well.\n",
    "\n",
    "The processing of fighting overfitting in this way is called _regularization_. Let's review some of the most common regularization \n",
    "techniques, and let's apply them in practice to improve our movie classification model from  the previous chapter."
   ]
  },
  {
   "cell_type": "markdown",
   "metadata": {},
   "source": [
    "Note: in this notebook we will be using the IMDB test set as our validation set. It doesn't matter in this context.\n",
    "\n",
    "Let's prepare the data using the code from Chapter 3, Section 5:"
   ]
  },
  {
   "cell_type": "code",
   "execution_count": 2,
   "metadata": {
    "collapsed": true
   },
   "outputs": [],
   "source": [
    "from tensorflow.keras.datasets import imdb\n",
    "import numpy as np\n",
    "\n",
    "(train_data, train_labels), (test_data, test_labels) = imdb.load_data(num_words=10000)\n",
    "\n",
    "def vectorize_sequences(sequences, dimension=10000):\n",
    "    # Create an all-zero matrix of shape (len(sequences), dimension)\n",
    "    results = np.zeros((len(sequences), dimension))\n",
    "    for i, sequence in enumerate(sequences):\n",
    "        results[i, sequence] = 1.  # set specific indices of results[i] to 1s\n",
    "    return results\n",
    "\n",
    "# Our vectorized training data\n",
    "x_train = vectorize_sequences(train_data)\n",
    "# Our vectorized test data\n",
    "x_test = vectorize_sequences(test_data)\n",
    "# Our vectorized labels\n",
    "y_train = np.asarray(train_labels).astype('float32')\n",
    "y_test = np.asarray(test_labels).astype('float32')"
   ]
  },
  {
   "cell_type": "markdown",
   "metadata": {},
   "source": [
    "# Fighting overfitting\n",
    "\n",
    "## Reducing the network's size\n",
    "\n",
    "\n",
    "The simplest way to prevent overfitting is to reduce the size of the model, i.e. the number of learnable parameters in the model (which is \n",
    "determined by the number of layers and the number of units per layer). In deep learning, the number of learnable parameters in a model is \n",
    "often referred to as the model's \"capacity\". Intuitively, a model with more parameters will have more \"memorization capacity\" and therefore \n",
    "will be able to easily learn a perfect dictionary-like mapping between training samples and their targets, a mapping without any \n",
    "generalization power. For instance, a model with 500,000 binary parameters could easily be made to learn the class of every digits in the \n",
    "MNIST training set: we would only need 10 binary parameters for each of the 50,000 digits. Such a model would be useless for classifying \n",
    "new digit samples. Always keep this in mind: deep learning models tend to be good at fitting to the training data, but the real challenge \n",
    "is generalization, not fitting.\n",
    "\n",
    "On the other hand, if the network has limited memorization resources, it will not be able to learn this mapping as easily, and thus, in \n",
    "order to minimize its loss, it will have to resort to learning compressed representations that have predictive power regarding the targets \n",
    "-- precisely the type of representations that we are interested in. At the same time, keep in mind that you should be using models that have \n",
    "enough parameters that they won't be underfitting: your model shouldn't be starved for memorization resources. There is a compromise to be \n",
    "found between \"too much capacity\" and \"not enough capacity\".\n",
    "\n",
    "Unfortunately, there is no magical formula to determine what the right number of layers is, or what the right size for each layer is. You \n",
    "will have to evaluate an array of different architectures (on your validation set, not on your test set, of course) in order to find the \n",
    "right model size for your data. The general workflow to find an appropriate model size is to start with relatively few layers and \n",
    "parameters, and start increasing the size of the layers or adding new layers until you see diminishing returns with regard to the \n",
    "validation loss.\n",
    "\n",
    "Let's try this on our movie review classification network. Our original network was as such:"
   ]
  },
  {
   "cell_type": "code",
   "execution_count": 3,
   "metadata": {
    "collapsed": true
   },
   "outputs": [],
   "source": [
    "from tensorflow.keras import models\n",
    "from tensorflow.keras import layers\n",
    "\n",
    "original_model = models.Sequential()\n",
    "original_model.add(layers.Dense(16, activation='relu', input_shape=(10000,)))\n",
    "original_model.add(layers.Dense(16, activation='relu'))\n",
    "original_model.add(layers.Dense(1, activation='sigmoid'))\n",
    "\n",
    "original_model.compile(optimizer='rmsprop',\n",
    "                       loss='binary_crossentropy',\n",
    "                       metrics=['acc'])"
   ]
  },
  {
   "cell_type": "markdown",
   "metadata": {},
   "source": [
    "Now let's try to replace it with this smaller network:"
   ]
  },
  {
   "cell_type": "code",
   "execution_count": 4,
   "metadata": {
    "collapsed": true
   },
   "outputs": [],
   "source": [
    "smaller_model = models.Sequential()\n",
    "smaller_model.add(layers.Dense(4, activation='relu', input_shape=(10000,)))\n",
    "smaller_model.add(layers.Dense(4, activation='relu'))\n",
    "smaller_model.add(layers.Dense(1, activation='sigmoid'))\n",
    "\n",
    "smaller_model.compile(optimizer='rmsprop',\n",
    "                      loss='binary_crossentropy',\n",
    "                      metrics=['acc'])"
   ]
  },
  {
   "cell_type": "markdown",
   "metadata": {},
   "source": [
    "\n",
    "Here's a comparison of the validation losses of the original network and the smaller network. The dots are the validation loss values of \n",
    "the smaller network, and the crosses are the initial network (remember: a lower validation loss signals a better model)."
   ]
  },
  {
   "cell_type": "code",
   "execution_count": 5,
   "metadata": {},
   "outputs": [
    {
     "name": "stdout",
     "output_type": "stream",
     "text": [
      "Train on 25000 samples, validate on 25000 samples\n",
      "Epoch 1/20\n",
      "25000/25000 [==============================] - 6s 233us/sample - loss: 0.4631 - acc: 0.8256 - val_loss: 0.3597 - val_acc: 0.8676\n",
      "Epoch 2/20\n",
      "25000/25000 [==============================] - 5s 187us/sample - loss: 0.2692 - acc: 0.9080 - val_loss: 0.2943 - val_acc: 0.8850\n",
      "Epoch 3/20\n",
      "25000/25000 [==============================] - 5s 193us/sample - loss: 0.2064 - acc: 0.9272 - val_loss: 0.3168 - val_acc: 0.8701\n",
      "Epoch 4/20\n",
      "25000/25000 [==============================] - 4s 178us/sample - loss: 0.1726 - acc: 0.9385 - val_loss: 0.3011 - val_acc: 0.8793\n",
      "Epoch 5/20\n",
      "25000/25000 [==============================] - 4s 178us/sample - loss: 0.1488 - acc: 0.9475 - val_loss: 0.3278 - val_acc: 0.8733\n",
      "Epoch 6/20\n",
      "25000/25000 [==============================] - 5s 193us/sample - loss: 0.1298 - acc: 0.9548 - val_loss: 0.3428 - val_acc: 0.8727\n",
      "Epoch 7/20\n",
      "25000/25000 [==============================] - 5s 182us/sample - loss: 0.1168 - acc: 0.9596 - val_loss: 0.3468 - val_acc: 0.8744\n",
      "Epoch 8/20\n",
      "25000/25000 [==============================] - 5s 193us/sample - loss: 0.1023 - acc: 0.9666 - val_loss: 0.3899 - val_acc: 0.8662\n",
      "Epoch 9/20\n",
      "25000/25000 [==============================] - 4s 178us/sample - loss: 0.0919 - acc: 0.9692 - val_loss: 0.3988 - val_acc: 0.8685\n",
      "Epoch 10/20\n",
      "25000/25000 [==============================] - 5s 198us/sample - loss: 0.0828 - acc: 0.9720 - val_loss: 0.4245 - val_acc: 0.8661\n",
      "Epoch 11/20\n",
      "25000/25000 [==============================] - 5s 193us/sample - loss: 0.0753 - acc: 0.9752 - val_loss: 0.4643 - val_acc: 0.8625\n",
      "Epoch 12/20\n",
      "25000/25000 [==============================] - 5s 190us/sample - loss: 0.0649 - acc: 0.9792 - val_loss: 0.4805 - val_acc: 0.8616\n",
      "Epoch 13/20\n",
      "25000/25000 [==============================] - 5s 189us/sample - loss: 0.0604 - acc: 0.9806 - val_loss: 0.5573 - val_acc: 0.8520\n",
      "Epoch 14/20\n",
      "25000/25000 [==============================] - 5s 182us/sample - loss: 0.0539 - acc: 0.9834 - val_loss: 0.5632 - val_acc: 0.8530\n",
      "Epoch 15/20\n",
      "25000/25000 [==============================] - 5s 197us/sample - loss: 0.0455 - acc: 0.9874 - val_loss: 0.5904 - val_acc: 0.8533\n",
      "Epoch 16/20\n",
      "25000/25000 [==============================] - 4s 178us/sample - loss: 0.0418 - acc: 0.9880 - val_loss: 0.6140 - val_acc: 0.8538\n",
      "Epoch 17/20\n",
      "25000/25000 [==============================] - 5s 190us/sample - loss: 0.0347 - acc: 0.9913 - val_loss: 0.6404 - val_acc: 0.8540\n",
      "Epoch 18/20\n",
      "25000/25000 [==============================] - 4s 175us/sample - loss: 0.0334 - acc: 0.9904 - val_loss: 0.6818 - val_acc: 0.8512\n",
      "Epoch 19/20\n",
      "25000/25000 [==============================] - 5s 193us/sample - loss: 0.0261 - acc: 0.9933 - val_loss: 0.7132 - val_acc: 0.8505\n",
      "Epoch 20/20\n",
      "25000/25000 [==============================] - 5s 196us/sample - loss: 0.0244 - acc: 0.9936 - val_loss: 0.7968 - val_acc: 0.8446\n"
     ]
    }
   ],
   "source": [
    "original_hist = original_model.fit(x_train, y_train,\n",
    "                                   epochs=20,\n",
    "                                   batch_size=512,\n",
    "                                   validation_data=(x_test, y_test))"
   ]
  },
  {
   "cell_type": "code",
   "execution_count": 6,
   "metadata": {},
   "outputs": [
    {
     "name": "stdout",
     "output_type": "stream",
     "text": [
      "Train on 25000 samples, validate on 25000 samples\n",
      "Epoch 1/20\n",
      "25000/25000 [==============================] - 5s 188us/sample - loss: 0.5614 - acc: 0.7927 - val_loss: 0.4757 - val_acc: 0.8296\n",
      "Epoch 2/20\n",
      "25000/25000 [==============================] - 5s 195us/sample - loss: 0.3796 - acc: 0.8863 - val_loss: 0.3603 - val_acc: 0.8754\n",
      "Epoch 3/20\n",
      "25000/25000 [==============================] - 4s 173us/sample - loss: 0.2916 - acc: 0.9063 - val_loss: 0.3132 - val_acc: 0.8853\n",
      "Epoch 4/20\n",
      "25000/25000 [==============================] - 5s 193us/sample - loss: 0.2417 - acc: 0.9184 - val_loss: 0.2894 - val_acc: 0.8886\n",
      "Epoch 5/20\n",
      "25000/25000 [==============================] - 5s 181us/sample - loss: 0.2087 - acc: 0.9288 - val_loss: 0.2796 - val_acc: 0.8896\n",
      "Epoch 6/20\n",
      "25000/25000 [==============================] - 4s 177us/sample - loss: 0.1860 - acc: 0.9363 - val_loss: 0.2800 - val_acc: 0.8877\n",
      "Epoch 7/20\n",
      "25000/25000 [==============================] - 4s 179us/sample - loss: 0.1681 - acc: 0.9434 - val_loss: 0.2864 - val_acc: 0.8843\n",
      "Epoch 8/20\n",
      "25000/25000 [==============================] - 5s 181us/sample - loss: 0.1545 - acc: 0.9472 - val_loss: 0.2865 - val_acc: 0.8864\n",
      "Epoch 9/20\n",
      "25000/25000 [==============================] - 5s 215us/sample - loss: 0.1423 - acc: 0.9517 - val_loss: 0.2943 - val_acc: 0.8846\n",
      "Epoch 10/20\n",
      "25000/25000 [==============================] - 5s 188us/sample - loss: 0.1315 - acc: 0.9565 - val_loss: 0.3080 - val_acc: 0.8808\n",
      "Epoch 11/20\n",
      "25000/25000 [==============================] - 5s 185us/sample - loss: 0.1226 - acc: 0.9600 - val_loss: 0.3149 - val_acc: 0.8796\n",
      "Epoch 12/20\n",
      "25000/25000 [==============================] - 5s 186us/sample - loss: 0.1144 - acc: 0.9625 - val_loss: 0.3312 - val_acc: 0.8755\n",
      "Epoch 13/20\n",
      "25000/25000 [==============================] - 5s 180us/sample - loss: 0.1069 - acc: 0.9657 - val_loss: 0.3412 - val_acc: 0.8758\n",
      "Epoch 14/20\n",
      "25000/25000 [==============================] - 4s 176us/sample - loss: 0.0998 - acc: 0.9683 - val_loss: 0.3529 - val_acc: 0.8745\n",
      "Epoch 15/20\n",
      "25000/25000 [==============================] - 5s 185us/sample - loss: 0.0938 - acc: 0.9707 - val_loss: 0.3665 - val_acc: 0.8724\n",
      "Epoch 16/20\n",
      "25000/25000 [==============================] - 4s 180us/sample - loss: 0.0878 - acc: 0.9727 - val_loss: 0.3805 - val_acc: 0.8712\n",
      "Epoch 17/20\n",
      "25000/25000 [==============================] - 4s 176us/sample - loss: 0.0827 - acc: 0.9744 - val_loss: 0.3971 - val_acc: 0.8686\n",
      "Epoch 18/20\n",
      "25000/25000 [==============================] - 5s 183us/sample - loss: 0.0775 - acc: 0.9766 - val_loss: 0.4143 - val_acc: 0.8658\n",
      "Epoch 19/20\n",
      "25000/25000 [==============================] - 4s 177us/sample - loss: 0.0726 - acc: 0.9780 - val_loss: 0.4319 - val_acc: 0.8652\n",
      "Epoch 20/20\n",
      "25000/25000 [==============================] - 5s 186us/sample - loss: 0.0677 - acc: 0.9803 - val_loss: 0.4472 - val_acc: 0.8646\n"
     ]
    }
   ],
   "source": [
    "smaller_model_hist = smaller_model.fit(x_train, y_train,\n",
    "                                       epochs=20,\n",
    "                                       batch_size=512,\n",
    "                                       validation_data=(x_test, y_test))"
   ]
  },
  {
   "cell_type": "code",
   "execution_count": 7,
   "metadata": {
    "collapsed": true
   },
   "outputs": [],
   "source": [
    "epochs = range(1, 21)\n",
    "original_val_loss = original_hist.history['val_loss']\n",
    "smaller_model_val_loss = smaller_model_hist.history['val_loss']"
   ]
  },
  {
   "cell_type": "code",
   "execution_count": 8,
   "metadata": {},
   "outputs": [
    {
     "data": {
      "text/plain": [
       "<Figure size 640x480 with 1 Axes>"
      ]
     },
     "metadata": {},
     "output_type": "display_data"
    }
   ],
   "source": [
    "import matplotlib.pyplot as plt\n",
    "\n",
    "# b+ is for \"blue cross\"\n",
    "plt.plot(epochs, original_val_loss, 'b+', label='Original model')\n",
    "# \"bo\" is for \"blue dot\"\n",
    "plt.plot(epochs, smaller_model_val_loss, 'bo', label='Smaller model')\n",
    "plt.xlabel('Epochs')\n",
    "plt.ylabel('Validation loss')\n",
    "plt.legend()\n",
    "\n",
    "plt.show()"
   ]
  },
  {
   "cell_type": "markdown",
   "metadata": {},
   "source": [
    "\n",
    "As you can see, the smaller network starts overfitting later than the reference one (after 6 epochs rather than 4) and its performance \n",
    "degrades much more slowly once it starts overfitting.\n",
    "\n",
    "Now, for kicks, let's add to this benchmark a network that has much more capacity, far more than the problem would warrant:"
   ]
  },
  {
   "cell_type": "code",
   "execution_count": 9,
   "metadata": {
    "collapsed": true
   },
   "outputs": [],
   "source": [
    "bigger_model = models.Sequential()\n",
    "bigger_model.add(layers.Dense(512, activation='relu', input_shape=(10000,)))\n",
    "bigger_model.add(layers.Dense(512, activation='relu'))\n",
    "bigger_model.add(layers.Dense(1, activation='sigmoid'))\n",
    "\n",
    "bigger_model.compile(optimizer='rmsprop',\n",
    "                     loss='binary_crossentropy',\n",
    "                     metrics=['acc'])"
   ]
  },
  {
   "cell_type": "code",
   "execution_count": 10,
   "metadata": {},
   "outputs": [
    {
     "name": "stdout",
     "output_type": "stream",
     "text": [
      "Train on 25000 samples, validate on 25000 samples\n",
      "Epoch 1/20\n",
      "25000/25000 [==============================] - 9s 343us/sample - loss: 0.4679 - acc: 0.7941 - val_loss: 0.3672 - val_acc: 0.8404\n",
      "Epoch 2/20\n",
      "25000/25000 [==============================] - 8s 330us/sample - loss: 0.2255 - acc: 0.9105 - val_loss: 0.2725 - val_acc: 0.8889\n",
      "Epoch 3/20\n",
      "25000/25000 [==============================] - 8s 330us/sample - loss: 0.1301 - acc: 0.9502 - val_loss: 0.3171 - val_acc: 0.8779\n",
      "Epoch 4/20\n",
      "25000/25000 [==============================] - 8s 328us/sample - loss: 0.0668 - acc: 0.9812 - val_loss: 0.6087 - val_acc: 0.8402\n",
      "Epoch 5/20\n",
      "25000/25000 [==============================] - 8s 327us/sample - loss: 0.0939 - acc: 0.9853 - val_loss: 0.4370 - val_acc: 0.8793\n",
      "Epoch 6/20\n",
      "25000/25000 [==============================] - 8s 330us/sample - loss: 0.0023 - acc: 1.0000 - val_loss: 0.6646 - val_acc: 0.8801\n",
      "Epoch 7/20\n",
      "25000/25000 [==============================] - 8s 335us/sample - loss: 0.1359 - acc: 0.9880 - val_loss: 0.8373 - val_acc: 0.8251\n",
      "Epoch 8/20\n",
      "25000/25000 [==============================] - 8s 329us/sample - loss: 0.0013 - acc: 1.0000 - val_loss: 0.7111 - val_acc: 0.8774\n",
      "Epoch 9/20\n",
      "25000/25000 [==============================] - 8s 336us/sample - loss: 2.3865e-04 - acc: 1.0000 - val_loss: 3.7259 - val_acc: 0.6928\n",
      "Epoch 10/20\n",
      "25000/25000 [==============================] - 8s 326us/sample - loss: 0.0912 - acc: 0.9877 - val_loss: 0.7028 - val_acc: 0.8792\n",
      "Epoch 11/20\n",
      "25000/25000 [==============================] - 8s 330us/sample - loss: 6.5544e-05 - acc: 1.0000 - val_loss: 0.8488 - val_acc: 0.8785\n",
      "Epoch 12/20\n",
      "25000/25000 [==============================] - 8s 328us/sample - loss: 1.3287e-05 - acc: 1.0000 - val_loss: 0.9969 - val_acc: 0.8789\n",
      "Epoch 13/20\n",
      "25000/25000 [==============================] - 8s 327us/sample - loss: 1.7846e-06 - acc: 1.0000 - val_loss: 1.1678 - val_acc: 0.8788\n",
      "Epoch 14/20\n",
      "25000/25000 [==============================] - 8s 332us/sample - loss: 2.5899e-07 - acc: 1.0000 - val_loss: 1.3230 - val_acc: 0.8787\n",
      "Epoch 15/20\n",
      "25000/25000 [==============================] - 8s 328us/sample - loss: 5.7961e-08 - acc: 1.0000 - val_loss: 1.4288 - val_acc: 0.8791\n",
      "Epoch 16/20\n",
      "25000/25000 [==============================] - 8s 338us/sample - loss: 2.2888e-08 - acc: 1.0000 - val_loss: 1.4822 - val_acc: 0.8791\n",
      "Epoch 17/20\n",
      "25000/25000 [==============================] - 8s 329us/sample - loss: 1.3825e-08 - acc: 1.0000 - val_loss: 1.5174 - val_acc: 0.8789\n",
      "Epoch 18/20\n",
      "25000/25000 [==============================] - 8s 330us/sample - loss: 9.9093e-09 - acc: 1.0000 - val_loss: 1.5404 - val_acc: 0.8790\n",
      "Epoch 19/20\n",
      "25000/25000 [==============================] - 8s 329us/sample - loss: 7.6821e-09 - acc: 1.0000 - val_loss: 1.5594 - val_acc: 0.8790\n",
      "Epoch 20/20\n",
      "25000/25000 [==============================] - 8s 330us/sample - loss: 6.2917e-09 - acc: 1.0000 - val_loss: 1.5749 - val_acc: 0.8792\n"
     ]
    }
   ],
   "source": [
    "bigger_model_hist = bigger_model.fit(x_train, y_train,\n",
    "                                     epochs=20,\n",
    "                                     batch_size=512,\n",
    "                                     validation_data=(x_test, y_test))"
   ]
  },
  {
   "cell_type": "markdown",
   "metadata": {},
   "source": [
    "Here's how the bigger network fares compared to the reference one. The dots are the validation loss values of the bigger network, and the \n",
    "crosses are the initial network."
   ]
  },
  {
   "cell_type": "code",
   "execution_count": 11,
   "metadata": {},
   "outputs": [
    {
     "data": {
      "image/png": "[encoded data removed]",
      "text/plain": [
       "<Figure size 432x288 with 1 Axes>"
      ]
     },
     "metadata": {
      "needs_background": "light"
     },
     "output_type": "display_data"
    }
   ],
   "source": [
    "bigger_model_val_loss = bigger_model_hist.history['val_loss']\n",
    "\n",
    "plt.plot(epochs, original_val_loss, 'b+', label='Original model')\n",
    "plt.plot(epochs, bigger_model_val_loss, 'bo', label='Bigger model')\n",
    "plt.xlabel('Epochs')\n",
    "plt.ylabel('Validation loss')\n",
    "plt.legend()\n",
    "\n",
    "plt.show()"
   ]
  },
  {
   "cell_type": "markdown",
   "metadata": {},
   "source": [
    "\n",
    "The bigger network starts overfitting almost right away, after just one epoch, and overfits much more severely. Its validation loss is also \n",
    "more noisy.\n",
    "\n",
    "Meanwhile, here are the training losses for our two networks:"
   ]
  },
  {
   "cell_type": "code",
   "execution_count": 12,
   "metadata": {},
   "outputs": [
    {
     "data": {
      "image/png": "[encoded data removed]",
      "text/plain": [
       "<Figure size 432x288 with 1 Axes>"
      ]
     },
     "metadata": {
      "needs_background": "light"
     },
     "output_type": "display_data"
    }
   ],
   "source": [
    "original_train_loss = original_hist.history['loss']\n",
    "bigger_model_train_loss = bigger_model_hist.history['loss']\n",
    "\n",
    "plt.plot(epochs, original_train_loss, 'b+', label='Original model')\n",
    "plt.plot(epochs, bigger_model_train_loss, 'bo', label='Bigger model')\n",
    "plt.xlabel('Epochs')\n",
    "plt.ylabel('Training loss')\n",
    "plt.legend()\n",
    "\n",
    "plt.show()"
   ]
  },
  {
   "cell_type": "markdown",
   "metadata": {},
   "source": [
    "As you can see, the bigger network gets its training loss near zero very quickly. The more capacity the network has, the quicker it will be \n",
    "able to model the training data (resulting in a low training loss), but the more susceptible it is to overfitting (resulting in a large \n",
    "difference between the training and validation loss)."
   ]
  },
  {
   "cell_type": "markdown",
   "metadata": {},
   "source": [
    "## Adding weight regularization\n",
    "\n",
    "\n",
    "You may be familiar with _Occam's Razor_ principle: given two explanations for something, the explanation most likely to be correct is the \n",
    "\"simplest\" one, the one that makes the least amount of assumptions. This also applies to the models learned by neural networks: given some \n",
    "training data and a network architecture, there are multiple sets of weights values (multiple _models_) that could explain the data, and \n",
    "simpler models are less likely to overfit than complex ones.\n",
    "\n",
    "A \"simple model\" in this context is a model where the distribution of parameter values has less entropy (or a model with fewer \n",
    "parameters altogether, as we saw in the section above). Thus a common way to mitigate overfitting is to put constraints on the complexity \n",
    "of a network by forcing its weights to only take small values, which makes the distribution of weight values more \"regular\". This is called \n",
    "\"weight regularization\", and it is done by adding to the loss function of the network a _cost_ associated with having large weights. This \n",
    "cost comes in two flavors:\n",
    "\n",
    "* L1 regularization, where the cost added is proportional to the _absolute value of the weights coefficients_ (i.e. to what is called the \n",
    "\"L1 norm\" of the weights).\n",
    "* L2 regularization, where the cost added is proportional to the _square of the value of the weights coefficients_ (i.e. to what is called \n",
    "the \"L2 norm\" of the weights). L2 regularization is also called _weight decay_ in the context of neural networks. Don't let the different \n",
    "name confuse you: weight decay is mathematically the exact same as L2 regularization.\n",
    "\n",
    "In Keras, weight regularization is added by passing _weight regularizer instances_ to layers as keyword arguments. Let's add L2 weight \n",
    "regularization to our movie review classification network:"
   ]
  },
  {
   "cell_type": "code",
   "execution_count": 13,
   "metadata": {
    "collapsed": true
   },
   "outputs": [],
   "source": [
    "from tensorflow.keras import regularizers\n",
    "\n",
    "l2_model = models.Sequential()\n",
    "l2_model.add(layers.Dense(16, kernel_regularizer=regularizers.l2(0.001),\n",
    "                          activation='relu', input_shape=(10000,)))\n",
    "l2_model.add(layers.Dense(16, kernel_regularizer=regularizers.l2(0.001),\n",
    "                          activation='relu'))\n",
    "l2_model.add(layers.Dense(1, activation='sigmoid'))"
   ]
  },
  {
   "cell_type": "code",
   "execution_count": 14,
   "metadata": {
    "collapsed": true
   },
   "outputs": [],
   "source": [
    "l2_model.compile(optimizer='rmsprop',\n",
    "                 loss='binary_crossentropy',\n",
    "                 metrics=['acc'])"
   ]
  },
  {
   "cell_type": "markdown",
   "metadata": {},
   "source": [
    "`l2(0.001)` means that every coefficient in the weight matrix of the layer will add `0.001 * weight_coefficient_value` to the total loss of \n",
    "the network. Note that because this penalty is _only added at training time_, the loss for this network will be much higher at training \n",
    "than at test time.\n",
    "\n",
    "Here's the impact of our L2 regularization penalty:"
   ]
  },
  {
   "cell_type": "code",
   "execution_count": 15,
   "metadata": {},
   "outputs": [
    {
     "name": "stdout",
     "output_type": "stream",
     "text": [
      "Train on 25000 samples, validate on 25000 samples\n",
      "Epoch 1/20\n",
      "25000/25000 [==============================] - 4s 164us/sample - loss: 0.5348 - acc: 0.7944 - val_loss: 0.4244 - val_acc: 0.8696\n",
      "Epoch 2/20\n",
      "25000/25000 [==============================] - 4s 154us/sample - loss: 0.3318 - acc: 0.9025 - val_loss: 0.3412 - val_acc: 0.8848\n",
      "Epoch 3/20\n",
      "25000/25000 [==============================] - 4s 149us/sample - loss: 0.2742 - acc: 0.9193 - val_loss: 0.3381 - val_acc: 0.8831\n",
      "Epoch 4/20\n",
      "25000/25000 [==============================] - 4s 157us/sample - loss: 0.2472 - acc: 0.9303 - val_loss: 0.3315 - val_acc: 0.8867\n",
      "Epoch 5/20\n",
      "25000/25000 [==============================] - 4s 146us/sample - loss: 0.2369 - acc: 0.9325 - val_loss: 0.3499 - val_acc: 0.8795\n",
      "Epoch 6/20\n",
      "25000/25000 [==============================] - 4s 150us/sample - loss: 0.2230 - acc: 0.9391 - val_loss: 0.3551 - val_acc: 0.8786\n",
      "Epoch 7/20\n",
      "25000/25000 [==============================] - 4s 146us/sample - loss: 0.2173 - acc: 0.9415 - val_loss: 0.3821 - val_acc: 0.8705\n",
      "Epoch 8/20\n",
      "25000/25000 [==============================] - 4s 151us/sample - loss: 0.2119 - acc: 0.9425 - val_loss: 0.3961 - val_acc: 0.8676\n",
      "Epoch 9/20\n",
      "25000/25000 [==============================] - 4s 147us/sample - loss: 0.2064 - acc: 0.9469 - val_loss: 0.3713 - val_acc: 0.8760\n",
      "Epoch 10/20\n",
      "25000/25000 [==============================] - 4s 154us/sample - loss: 0.2034 - acc: 0.9467 - val_loss: 0.3873 - val_acc: 0.8715\n",
      "Epoch 11/20\n",
      "25000/25000 [==============================] - 4s 147us/sample - loss: 0.2001 - acc: 0.9484 - val_loss: 0.4050 - val_acc: 0.8675\n",
      "Epoch 12/20\n",
      "25000/25000 [==============================] - 4s 149us/sample - loss: 0.1951 - acc: 0.9487 - val_loss: 0.3903 - val_acc: 0.8724\n",
      "Epoch 13/20\n",
      "25000/25000 [==============================] - 4s 149us/sample - loss: 0.1900 - acc: 0.9515 - val_loss: 0.4020 - val_acc: 0.8705\n",
      "Epoch 14/20\n",
      "25000/25000 [==============================] - 4s 154us/sample - loss: 0.1902 - acc: 0.9511 - val_loss: 0.4140 - val_acc: 0.8672\n",
      "Epoch 15/20\n",
      "25000/25000 [==============================] - 4s 151us/sample - loss: 0.1876 - acc: 0.9532 - val_loss: 0.4260 - val_acc: 0.8656\n",
      "Epoch 16/20\n",
      "25000/25000 [==============================] - 4s 162us/sample - loss: 0.1801 - acc: 0.9564 - val_loss: 0.4760 - val_acc: 0.8547\n",
      "Epoch 17/20\n",
      "25000/25000 [==============================] - 4s 161us/sample - loss: 0.1814 - acc: 0.9549 - val_loss: 0.4180 - val_acc: 0.8686\n",
      "Epoch 18/20\n",
      "25000/25000 [==============================] - 4s 168us/sample - loss: 0.1766 - acc: 0.9560 - val_loss: 0.4188 - val_acc: 0.8687\n",
      "Epoch 19/20\n",
      "25000/25000 [==============================] - 4s 158us/sample - loss: 0.1795 - acc: 0.9544 - val_loss: 0.4232 - val_acc: 0.8677\n",
      "Epoch 20/20\n",
      "25000/25000 [==============================] - 4s 165us/sample - loss: 0.1715 - acc: 0.9588 - val_loss: 0.4467 - val_acc: 0.8644\n"
     ]
    }
   ],
   "source": [
    "l2_model_hist = l2_model.fit(x_train, y_train,\n",
    "                             epochs=20,\n",
    "                             batch_size=512,\n",
    "                             validation_data=(x_test, y_test))"
   ]
  },
  {
   "cell_type": "code",
   "execution_count": 30,
   "metadata": {},
   "outputs": [
    {
     "data": {
      "image/png": "[encoded data removed]",
      "text/plain": [
       "<matplotlib.figure.Figure at 0x7f43bef16c50>"
      ]
     },
     "metadata": {},
     "output_type": "display_data"
    }
   ],
   "source": [
    "l2_model_val_loss = l2_model_hist.history['val_loss']\n",
    "\n",
    "plt.plot(epochs, original_val_loss, 'b+', label='Original model')\n",
    "plt.plot(epochs, l2_model_val_loss, 'bo', label='L2-regularized model')\n",
    "plt.xlabel('Epochs')\n",
    "plt.ylabel('Validation loss')\n",
    "plt.legend()\n",
    "\n",
    "plt.show()"
   ]
  },
  {
   "cell_type": "markdown",
   "metadata": {},
   "source": [
    "\n",
    "\n",
    "As you can see, the model with L2 regularization (dots) has become much more resistant to overfitting than the reference model (crosses), \n",
    "even though both models have the same number of parameters.\n",
    "\n",
    "As alternatives to L2 regularization, you could use one of the following Keras weight regularizers:"
   ]
  },
  {
   "cell_type": "code",
   "execution_count": 16,
   "metadata": {
    "collapsed": true
   },
   "outputs": [
    {
     "data": {
      "text/plain": [
       "<tensorflow.python.keras.regularizers.L1L2 at 0x226d4873898>"
      ]
     },
     "execution_count": 16,
     "metadata": {},
     "output_type": "execute_result"
    }
   ],
   "source": [
    "from tensorflow.keras import regularizers\n",
    "\n",
    "# L1 regularization\n",
    "regularizers.l1(0.001)\n",
    "\n",
    "# L1 and L2 regularization at the same time\n",
    "regularizers.l1_l2(l1=0.001, l2=0.001)"
   ]
  },
  {
   "cell_type": "markdown",
   "metadata": {},
   "source": [
    "## Adding dropout\n",
    "\n",
    "\n",
    "Dropout is one of the most effective and most commonly used regularization techniques for neural networks, developed by Hinton and his \n",
    "students at the University of Toronto. Dropout, applied to a layer, consists of randomly \"dropping out\" (i.e. setting to zero) a number of \n",
    "output features of the layer during training. Let's say a given layer would normally have returned a vector `[0.2, 0.5, 1.3, 0.8, 1.1]` for a \n",
    "given input sample during training; after applying dropout, this vector will have a few zero entries distributed at random, e.g. `[0, 0.5, \n",
    "1.3, 0, 1.1]`. The \"dropout rate\" is the fraction of the features that are being zeroed-out; it is usually set between 0.2 and 0.5. At test \n",
    "time, no units are dropped out, and instead the layer's output values are scaled down by a factor equal to the dropout rate, so as to \n",
    "balance for the fact that more units are active than at training time.\n",
    "\n",
    "Consider a Numpy matrix containing the output of a layer, `layer_output`, of shape `(batch_size, features)`. At training time, we would be \n",
    "zero-ing out at random a fraction of the values in the matrix:"
   ]
  },
  {
   "cell_type": "code",
   "execution_count": 23,
   "metadata": {
    "collapsed": true
   },
   "outputs": [],
   "source": [
    "# At training time: we drop out 50% of the units in the output\n",
    "batch_size = 50\n",
    "features = 10\n",
    "layer_output = np.zeros((batch_size, features))\n",
    "layer_output *= np.random.randint(0, high=2, size=layer_output.shape)"
   ]
  },
  {
   "cell_type": "markdown",
   "metadata": {},
   "source": [
    "\n",
    "At test time, we would be scaling the output down by the dropout rate. Here we scale by 0.5 (because we were previous dropping half the \n",
    "units):"
   ]
  },
  {
   "cell_type": "code",
   "execution_count": 24,
   "metadata": {
    "collapsed": true
   },
   "outputs": [],
   "source": [
    "# At test time:\n",
    "layer_output *= 0.5"
   ]
  },
  {
   "cell_type": "markdown",
   "metadata": {},
   "source": [
    "\n",
    "Note that this process can be implemented by doing both operations at training time and leaving the output unchanged at test time, which is \n",
    "often the way it is implemented in practice:"
   ]
  },
  {
   "cell_type": "code",
   "execution_count": 26,
   "metadata": {
    "collapsed": true
   },
   "outputs": [],
   "source": [
    "# At training time:\n",
    "layer_output *= np.random.randint(0, high=2, size=layer_output.shape)\n",
    "# Note that we are scaling *up* rather scaling *down* in this case\n",
    "layer_output /= 0.5"
   ]
  },
  {
   "cell_type": "markdown",
   "metadata": {},
   "source": [
    "\n",
    "This technique may seem strange and arbitrary. Why would this help reduce overfitting? Geoff Hinton has said that he was inspired, among \n",
    "other things, by a fraud prevention mechanism used by banks -- in his own words: _\"I went to my bank. The tellers kept changing and I asked \n",
    "one of them why. He said he didn’t know but they got moved around a lot. I figured it must be because it would require cooperation \n",
    "between employees to successfully defraud the bank. This made me realize that randomly removing a different subset of neurons on each \n",
    "example would prevent conspiracies and thus reduce overfitting\"_.\n",
    "\n",
    "The core idea is that introducing noise in the output values of a layer can break up happenstance patterns that are not significant (what \n",
    "Hinton refers to as \"conspiracies\"), which the network would start memorizing if no noise was present. \n",
    "\n",
    "In Keras you can introduce dropout in a network via the `Dropout` layer, which gets applied to the output of layer right before it, e.g.:"
   ]
  },
  {
   "cell_type": "code",
   "execution_count": 28,
   "metadata": {
    "collapsed": true
   },
   "outputs": [],
   "source": [
    "model = models.Sequential()\n",
    "model.add(layers.Dropout(0.5))"
   ]
  },
  {
   "cell_type": "markdown",
   "metadata": {},
   "source": [
    "Let's add two `Dropout` layers in our IMDB network to see how well they do at reducing overfitting:"
   ]
  },
  {
   "cell_type": "code",
   "execution_count": 29,
   "metadata": {
    "collapsed": true
   },
   "outputs": [],
   "source": [
    "dpt_model = models.Sequential()\n",
    "dpt_model.add(layers.Dense(16, activation='relu', input_shape=(10000,)))\n",
    "dpt_model.add(layers.Dropout(0.5))\n",
    "dpt_model.add(layers.Dense(16, activation='relu'))\n",
    "dpt_model.add(layers.Dropout(0.5))\n",
    "dpt_model.add(layers.Dense(1, activation='sigmoid'))\n",
    "\n",
    "dpt_model.compile(optimizer='rmsprop',\n",
    "                  loss='binary_crossentropy',\n",
    "                  metrics=['acc'])"
   ]
  },
  {
   "cell_type": "code",
   "execution_count": 30,
   "metadata": {},
   "outputs": [
    {
     "name": "stdout",
     "output_type": "stream",
     "text": [
      "Train on 25000 samples, validate on 25000 samples\n",
      "Epoch 1/20\n",
      "25000/25000 [==============================] - 4s 180us/sample - loss: 0.5980 - acc: 0.6853 - val_loss: 0.4457 - val_acc: 0.8605\n",
      "Epoch 2/20\n",
      "25000/25000 [==============================] - 4s 161us/sample - loss: 0.4454 - acc: 0.8166 - val_loss: 0.3375 - val_acc: 0.8819\n",
      "Epoch 3/20\n",
      "25000/25000 [==============================] - 4s 162us/sample - loss: 0.3513 - acc: 0.8670 - val_loss: 0.2901 - val_acc: 0.8871\n",
      "Epoch 4/20\n",
      "25000/25000 [==============================] - 4s 153us/sample - loss: 0.2954 - acc: 0.8932 - val_loss: 0.2771 - val_acc: 0.8881\n",
      "Epoch 5/20\n",
      "25000/25000 [==============================] - 4s 171us/sample - loss: 0.2563 - acc: 0.9140 - val_loss: 0.2898 - val_acc: 0.8831\n",
      "Epoch 6/20\n",
      "25000/25000 [==============================] - 4s 155us/sample - loss: 0.2272 - acc: 0.9242 - val_loss: 0.2910 - val_acc: 0.8860\n",
      "Epoch 7/20\n",
      "25000/25000 [==============================] - 4s 163us/sample - loss: 0.1999 - acc: 0.9330 - val_loss: 0.3053 - val_acc: 0.8860\n",
      "Epoch 8/20\n",
      "25000/25000 [==============================] - 4s 148us/sample - loss: 0.1856 - acc: 0.9385 - val_loss: 0.3226 - val_acc: 0.8862\n",
      "Epoch 9/20\n",
      "25000/25000 [==============================] - 4s 150us/sample - loss: 0.1737 - acc: 0.9428 - val_loss: 0.3611 - val_acc: 0.8772\n",
      "Epoch 10/20\n",
      "25000/25000 [==============================] - 4s 147us/sample - loss: 0.1568 - acc: 0.9466 - val_loss: 0.3722 - val_acc: 0.8826\n",
      "Epoch 11/20\n",
      "25000/25000 [==============================] - 4s 154us/sample - loss: 0.1465 - acc: 0.9512 - val_loss: 0.3916 - val_acc: 0.8810\n",
      "Epoch 12/20\n",
      "25000/25000 [==============================] - 4s 151us/sample - loss: 0.1434 - acc: 0.9522 - val_loss: 0.4125 - val_acc: 0.8795\n",
      "Epoch 13/20\n",
      "25000/25000 [==============================] - 4s 151us/sample - loss: 0.1283 - acc: 0.9577 - val_loss: 0.4470 - val_acc: 0.8784\n",
      "Epoch 14/20\n",
      "25000/25000 [==============================] - 4s 147us/sample - loss: 0.1217 - acc: 0.9585 - val_loss: 0.4733 - val_acc: 0.8793\n",
      "Epoch 15/20\n",
      "25000/25000 [==============================] - 4s 152us/sample - loss: 0.1255 - acc: 0.9592 - val_loss: 0.4909 - val_acc: 0.8779\n",
      "Epoch 16/20\n",
      "25000/25000 [==============================] - 4s 149us/sample - loss: 0.1191 - acc: 0.9618 - val_loss: 0.4996 - val_acc: 0.8769\n",
      "Epoch 17/20\n",
      "25000/25000 [==============================] - 4s 151us/sample - loss: 0.1163 - acc: 0.9632 - val_loss: 0.5163 - val_acc: 0.8741\n",
      "Epoch 18/20\n",
      "25000/25000 [==============================] - 4s 148us/sample - loss: 0.1067 - acc: 0.9626 - val_loss: 0.5767 - val_acc: 0.8722\n",
      "Epoch 19/20\n",
      "25000/25000 [==============================] - 4s 150us/sample - loss: 0.1075 - acc: 0.9659 - val_loss: 0.5636 - val_acc: 0.8732\n",
      "Epoch 20/20\n",
      "25000/25000 [==============================] - 4s 150us/sample - loss: 0.1038 - acc: 0.9646 - val_loss: 0.5872 - val_acc: 0.8738\n"
     ]
    }
   ],
   "source": [
    "dpt_model_hist = dpt_model.fit(x_train, y_train,\n",
    "                               epochs=20,\n",
    "                               batch_size=512,\n",
    "                               validation_data=(x_test, y_test))"
   ]
  },
  {
   "cell_type": "markdown",
   "metadata": {},
   "source": [
    "Let's plot the results:"
   ]
  },
  {
   "cell_type": "code",
   "execution_count": 31,
   "metadata": {},
   "outputs": [
    {
     "data": {
      "image/png": "[encoded data removed]",
      "text/plain": [
       "<Figure size 432x288 with 1 Axes>"
      ]
     },
     "metadata": {
      "needs_background": "light"
     },
     "output_type": "display_data"
    }
   ],
   "source": [
    "dpt_model_val_loss = dpt_model_hist.history['val_loss']\n",
    "\n",
    "plt.plot(epochs, original_val_loss, 'b+', label='Original model')\n",
    "plt.plot(epochs, dpt_model_val_loss, 'bo', label='Dropout-regularized model')\n",
    "plt.xlabel('Epochs')\n",
    "plt.ylabel('Validation loss')\n",
    "plt.legend()\n",
    "\n",
    "plt.show()"
   ]
  },
  {
   "cell_type": "markdown",
   "metadata": {},
   "source": [
    "\n",
    "Again, a clear improvement over the reference network.\n",
    "\n",
    "To recap: here the most common ways to prevent overfitting in neural networks:\n",
    "\n",
    "* Getting more training data.\n",
    "* Reducing the capacity of the network.\n",
    "* Adding weight regularization.\n",
    "* Adding dropout."
   ]
  },
  {
   "cell_type": "code",
   "execution_count": null,
   "metadata": {},
   "outputs": [],
   "source": []
  }
 ],
 "metadata": {
  "kernelspec": {
   "display_name": "Python 3",
   "language": "python",
   "name": "python3"
  },
  "language_info": {
   "codemirror_mode": {
    "name": "ipython",
    "version": 3
   },
   "file_extension": ".py",
   "mimetype": "text/x-python",
   "name": "python",
   "nbconvert_exporter": "python",
   "pygments_lexer": "ipython3",
   "version": "3.7.3"
  }
 },
 "nbformat": 4,
 "nbformat_minor": 2
}
